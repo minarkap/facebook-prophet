{
  "metadata": {
    "kernelspec": {
      "language": "python",
      "display_name": "Python 3",
      "name": "python3"
    },
    "language_info": {
      "pygments_lexer": "ipython3",
      "nbconvert_exporter": "python",
      "version": "3.6.4",
      "file_extension": ".py",
      "codemirror_mode": {
        "name": "ipython",
        "version": 3
      },
      "name": "python",
      "mimetype": "text/x-python"
    },
    "colab": {
      "provenance": [],
      "include_colab_link": true
    }
  },
  "nbformat_minor": 0,
  "nbformat": 4,
  "cells": [
    {
      "cell_type": "markdown",
      "metadata": {
        "id": "view-in-github",
        "colab_type": "text"
      },
      "source": [
        "<a href=\"https://colab.research.google.com/github/minarkap/facebook-prophet/blob/main/Copia_de_Time_Series_Forecasting_with_Machine_Learning_%5BYT%5D.ipynb\" target=\"_parent\"><img src=\"https://colab.research.google.com/assets/colab-badge.svg\" alt=\"Open In Colab\"/></a>"
      ]
    },
    {
      "source": [
        "# IMPORTANT: RUN THIS CELL IN ORDER TO IMPORT YOUR KAGGLE DATA SOURCES,\n",
        "# THEN FEEL FREE TO DELETE THIS CELL.\n",
        "# NOTE: THIS NOTEBOOK ENVIRONMENT DIFFERS FROM KAGGLE'S PYTHON\n",
        "# ENVIRONMENT SO THERE MAY BE MISSING LIBRARIES USED BY YOUR\n",
        "# NOTEBOOK.\n",
        "import kagglehub\n",
        "robikscube_hourly_energy_consumption_path = kagglehub.dataset_download('robikscube/hourly-energy-consumption')\n",
        "\n",
        "print('Data source import complete.')\n"
      ],
      "metadata": {
        "id": "Iw5Y8D1wR27J"
      },
      "cell_type": "code",
      "outputs": [],
      "execution_count": null
    },
    {
      "cell_type": "markdown",
      "source": [
        "# Time Series Forecasting Youtube Tutorial\n",
        "## Using Machine Learning to Forecast Energy Consumption\n",
        "\n",
        "This notebook is accompanied by a Youtube tutorial.\n",
        "\n",
        "[WATCH THE VIDEO HERE](https://youtu.be/vV12dGe_Fho)\n",
        "\n",
        "[You can find it on my channel here!](https://www.youtube.com/channel/UCxladMszXan-jfgzyeIMyvw)\n",
        "\n",
        "![](https://res.cloudinary.com/monday-blogs/w_768,h_384,c_fit/fl_lossy,f_auto,q_auto/wp-blog/2021/05/sales-forecasting-software.jpg)"
      ],
      "metadata": {
        "_uuid": "8f2839f25d086af736a60e9eeb907d3b93b6e0e5",
        "_cell_guid": "b1076dfc-b9ad-4769-8c92-a6c4dae69d19",
        "id": "GVhQNv1DR27K"
      }
    },
    {
      "cell_type": "code",
      "source": [
        "import pandas as pd\n",
        "import numpy as np\n",
        "import matplotlib.pyplot as plt\n",
        "import seaborn as sns\n",
        "\n",
        "import xgboost as xgb\n",
        "from sklearn.metrics import mean_squared_error\n",
        "color_pal = sns.color_palette()\n",
        "plt.style.use('fivethirtyeight')"
      ],
      "metadata": {
        "execution": {
          "iopub.status.busy": "2022-07-02T19:02:49.55843Z",
          "iopub.execute_input": "2022-07-02T19:02:49.558838Z",
          "iopub.status.idle": "2022-07-02T19:02:49.565603Z",
          "shell.execute_reply.started": "2022-07-02T19:02:49.558802Z",
          "shell.execute_reply": "2022-07-02T19:02:49.56482Z"
        },
        "trusted": true,
        "id": "bI00WuAoR27L"
      },
      "execution_count": null,
      "outputs": []
    },
    {
      "cell_type": "markdown",
      "source": [
        "## Types of Time Series Data\n",
        "\n",
        "![](https://miro.medium.com/max/1400/1*V_RKPeIxCB9CS_2SsLyKXw.jpeg)\n",
        "\n",
        "reference: https://engineering.99x.io/time-series-forecasting-in-machine-learning-3972f7a7a467"
      ],
      "metadata": {
        "id": "NAYBYQr7R27L"
      }
    },
    {
      "cell_type": "code",
      "source": [
        "df = pd.read_csv('../input/hourly-energy-consumption/PJME_hourly.csv')\n",
        "df = df.set_index('Datetime')\n",
        "df.index = pd.to_datetime(df.index)"
      ],
      "metadata": {
        "execution": {
          "iopub.status.busy": "2022-07-02T18:43:51.942425Z",
          "iopub.execute_input": "2022-07-02T18:43:51.942805Z",
          "iopub.status.idle": "2022-07-02T18:43:52.119462Z",
          "shell.execute_reply.started": "2022-07-02T18:43:51.942776Z",
          "shell.execute_reply": "2022-07-02T18:43:52.118288Z"
        },
        "trusted": true,
        "id": "iNmMHq5TR27L"
      },
      "execution_count": null,
      "outputs": []
    },
    {
      "cell_type": "code",
      "source": [
        "df.plot(style='.',\n",
        "        figsize=(15, 5),\n",
        "        color=color_pal[0],\n",
        "        title='PJME Energy Use in MW')\n",
        "plt.show()"
      ],
      "metadata": {
        "execution": {
          "iopub.status.busy": "2022-07-02T18:43:53.537794Z",
          "iopub.execute_input": "2022-07-02T18:43:53.538222Z",
          "iopub.status.idle": "2022-07-02T18:43:55.09507Z",
          "shell.execute_reply.started": "2022-07-02T18:43:53.538184Z",
          "shell.execute_reply": "2022-07-02T18:43:55.093799Z"
        },
        "trusted": true,
        "id": "7AdrGRpdR27L"
      },
      "execution_count": null,
      "outputs": []
    },
    {
      "cell_type": "markdown",
      "source": [
        "# Train / Test Split"
      ],
      "metadata": {
        "id": "g8hJqWp3R27L"
      }
    },
    {
      "cell_type": "code",
      "source": [
        "train = df.loc[df.index < '01-01-2015']\n",
        "test = df.loc[df.index >= '01-01-2015']\n",
        "\n",
        "fig, ax = plt.subplots(figsize=(15, 5))\n",
        "train.plot(ax=ax, label='Training Set', title='Data Train/Test Split')\n",
        "test.plot(ax=ax, label='Test Set')\n",
        "ax.axvline('01-01-2015', color='black', ls='--')\n",
        "ax.legend(['Training Set', 'Test Set'])\n",
        "plt.show()"
      ],
      "metadata": {
        "execution": {
          "iopub.status.busy": "2022-07-02T18:49:37.157237Z",
          "iopub.execute_input": "2022-07-02T18:49:37.158324Z",
          "iopub.status.idle": "2022-07-02T18:49:38.856733Z",
          "shell.execute_reply.started": "2022-07-02T18:49:37.158269Z",
          "shell.execute_reply": "2022-07-02T18:49:38.855347Z"
        },
        "trusted": true,
        "id": "PuIQz6jTR27L"
      },
      "execution_count": null,
      "outputs": []
    },
    {
      "cell_type": "code",
      "source": [
        "df.loc[(df.index > '01-01-2010') & (df.index < '01-08-2010')] \\\n",
        "    .plot(figsize=(15, 5), title='Week Of Data')\n",
        "plt.show()"
      ],
      "metadata": {
        "execution": {
          "iopub.status.busy": "2022-07-02T18:51:37.310021Z",
          "iopub.execute_input": "2022-07-02T18:51:37.310446Z",
          "iopub.status.idle": "2022-07-02T18:51:37.569239Z",
          "shell.execute_reply.started": "2022-07-02T18:51:37.310413Z",
          "shell.execute_reply": "2022-07-02T18:51:37.568282Z"
        },
        "trusted": true,
        "id": "H5r7ik57R27L"
      },
      "execution_count": null,
      "outputs": []
    },
    {
      "cell_type": "markdown",
      "source": [
        "# Feature Creation"
      ],
      "metadata": {
        "id": "KTUt9wbGR27L"
      }
    },
    {
      "cell_type": "code",
      "source": [
        "def create_features(df):\n",
        "    \"\"\"\n",
        "    Create time series features based on time series index.\n",
        "    \"\"\"\n",
        "    df = df.copy()\n",
        "    df['hour'] = df.index.hour\n",
        "    df['dayofweek'] = df.index.dayofweek\n",
        "    df['quarter'] = df.index.quarter\n",
        "    df['month'] = df.index.month\n",
        "    df['year'] = df.index.year\n",
        "    df['dayofyear'] = df.index.dayofyear\n",
        "    df['dayofmonth'] = df.index.day\n",
        "    df['weekofyear'] = df.index.isocalendar().week\n",
        "    return df\n",
        "\n",
        "df = create_features(df)"
      ],
      "metadata": {
        "execution": {
          "iopub.status.busy": "2022-07-02T19:29:54.653268Z",
          "iopub.execute_input": "2022-07-02T19:29:54.653667Z",
          "iopub.status.idle": "2022-07-02T19:29:54.815197Z",
          "shell.execute_reply.started": "2022-07-02T19:29:54.653634Z",
          "shell.execute_reply": "2022-07-02T19:29:54.813831Z"
        },
        "trusted": true,
        "id": "d4TXJiYtR27L"
      },
      "execution_count": null,
      "outputs": []
    },
    {
      "cell_type": "markdown",
      "source": [
        "# Visualize our Feature / Target Relationship"
      ],
      "metadata": {
        "execution": {
          "iopub.status.busy": "2022-07-02T18:55:43.448667Z",
          "iopub.execute_input": "2022-07-02T18:55:43.448999Z",
          "iopub.status.idle": "2022-07-02T18:55:43.536534Z",
          "shell.execute_reply.started": "2022-07-02T18:55:43.448971Z",
          "shell.execute_reply": "2022-07-02T18:55:43.535473Z"
        },
        "id": "HwD2_uA6R27M"
      }
    },
    {
      "cell_type": "code",
      "source": [
        "fig, ax = plt.subplots(figsize=(10, 8))\n",
        "sns.boxplot(data=df, x='hour', y='PJME_MW')\n",
        "ax.set_title('MW by Hour')\n",
        "plt.show()"
      ],
      "metadata": {
        "execution": {
          "iopub.status.busy": "2022-07-02T19:29:56.375792Z",
          "iopub.execute_input": "2022-07-02T19:29:56.376626Z",
          "iopub.status.idle": "2022-07-02T19:29:56.916146Z",
          "shell.execute_reply.started": "2022-07-02T19:29:56.376582Z",
          "shell.execute_reply": "2022-07-02T19:29:56.915319Z"
        },
        "trusted": true,
        "id": "H16mbZ3HR27M"
      },
      "execution_count": null,
      "outputs": []
    },
    {
      "cell_type": "code",
      "source": [
        "fig, ax = plt.subplots(figsize=(10, 8))\n",
        "sns.boxplot(data=df, x='month', y='PJME_MW', palette='Blues')\n",
        "ax.set_title('MW by Month')\n",
        "plt.show()"
      ],
      "metadata": {
        "execution": {
          "iopub.status.busy": "2022-07-02T19:29:58.128642Z",
          "iopub.execute_input": "2022-07-02T19:29:58.129484Z",
          "iopub.status.idle": "2022-07-02T19:29:58.48447Z",
          "shell.execute_reply.started": "2022-07-02T19:29:58.129444Z",
          "shell.execute_reply": "2022-07-02T19:29:58.483353Z"
        },
        "trusted": true,
        "id": "oMo7pu6nR27M"
      },
      "execution_count": null,
      "outputs": []
    },
    {
      "cell_type": "markdown",
      "source": [
        "# Create our Model"
      ],
      "metadata": {
        "id": "4GquHooKR27M"
      }
    },
    {
      "cell_type": "code",
      "source": [
        "train = create_features(train)\n",
        "test = create_features(test)\n",
        "\n",
        "FEATURES = ['dayofyear', 'hour', 'dayofweek', 'quarter', 'month', 'year']\n",
        "TARGET = 'PJME_MW'\n",
        "\n",
        "X_train = train[FEATURES]\n",
        "y_train = train[TARGET]\n",
        "\n",
        "X_test = test[FEATURES]\n",
        "y_test = test[TARGET]"
      ],
      "metadata": {
        "execution": {
          "iopub.status.busy": "2022-07-02T19:36:44.815307Z",
          "iopub.execute_input": "2022-07-02T19:36:44.815714Z",
          "iopub.status.idle": "2022-07-02T19:36:44.981328Z",
          "shell.execute_reply.started": "2022-07-02T19:36:44.815679Z",
          "shell.execute_reply": "2022-07-02T19:36:44.979582Z"
        },
        "trusted": true,
        "id": "N6fSErz3R27M"
      },
      "execution_count": null,
      "outputs": []
    },
    {
      "cell_type": "code",
      "source": [
        "reg = xgb.XGBRegressor(base_score=0.5, booster='gbtree',\n",
        "                       n_estimators=1000,\n",
        "                       early_stopping_rounds=50,\n",
        "                       objective='reg:linear',\n",
        "                       max_depth=3,\n",
        "                       learning_rate=0.01)\n",
        "reg.fit(X_train, y_train,\n",
        "        eval_set=[(X_train, y_train), (X_test, y_test)],\n",
        "        verbose=100)"
      ],
      "metadata": {
        "execution": {
          "iopub.status.busy": "2022-07-02T19:42:56.940602Z",
          "iopub.execute_input": "2022-07-02T19:42:56.940997Z",
          "iopub.status.idle": "2022-07-02T19:43:22.086587Z",
          "shell.execute_reply.started": "2022-07-02T19:42:56.940963Z",
          "shell.execute_reply": "2022-07-02T19:43:22.085629Z"
        },
        "trusted": true,
        "id": "OPA1iRccR27M"
      },
      "execution_count": null,
      "outputs": []
    },
    {
      "cell_type": "markdown",
      "source": [
        "# Feature Importance"
      ],
      "metadata": {
        "id": "cu0mDmq2R27M"
      }
    },
    {
      "cell_type": "code",
      "source": [
        "fi = pd.DataFrame(data=reg.feature_importances_,\n",
        "             index=reg.feature_names_in_,\n",
        "             columns=['importance'])\n",
        "fi.sort_values('importance').plot(kind='barh', title='Feature Importance')\n",
        "plt.show()"
      ],
      "metadata": {
        "execution": {
          "iopub.status.busy": "2022-07-02T19:43:26.557082Z",
          "iopub.execute_input": "2022-07-02T19:43:26.557457Z",
          "iopub.status.idle": "2022-07-02T19:43:26.714391Z",
          "shell.execute_reply.started": "2022-07-02T19:43:26.557422Z",
          "shell.execute_reply": "2022-07-02T19:43:26.713612Z"
        },
        "trusted": true,
        "id": "uBh9oTaVR27M"
      },
      "execution_count": null,
      "outputs": []
    },
    {
      "cell_type": "markdown",
      "source": [
        "# Forecast on Test"
      ],
      "metadata": {
        "id": "b4kMTmZeR27M"
      }
    },
    {
      "cell_type": "code",
      "source": [
        "test['prediction'] = reg.predict(X_test)\n",
        "df = df.merge(test[['prediction']], how='left', left_index=True, right_index=True)\n",
        "ax = df[['PJME_MW']].plot(figsize=(15, 5))\n",
        "df['prediction'].plot(ax=ax, style='.')\n",
        "plt.legend(['Truth Data', 'Predictions'])\n",
        "ax.set_title('Raw Dat and Prediction')\n",
        "plt.show()"
      ],
      "metadata": {
        "execution": {
          "iopub.status.busy": "2022-07-02T19:43:38.904136Z",
          "iopub.execute_input": "2022-07-02T19:43:38.905143Z",
          "iopub.status.idle": "2022-07-02T19:43:43.631035Z",
          "shell.execute_reply.started": "2022-07-02T19:43:38.905099Z",
          "shell.execute_reply": "2022-07-02T19:43:43.629979Z"
        },
        "trusted": true,
        "id": "nNvTTORfR27M"
      },
      "execution_count": null,
      "outputs": []
    },
    {
      "cell_type": "code",
      "source": [
        "ax = df.loc[(df.index > '04-01-2018') & (df.index < '04-08-2018')]['PJME_MW'] \\\n",
        "    .plot(figsize=(15, 5), title='Week Of Data')\n",
        "df.loc[(df.index > '04-01-2018') & (df.index < '04-08-2018')]['prediction'] \\\n",
        "    .plot(style='.')\n",
        "plt.legend(['Truth Data','Prediction'])\n",
        "plt.show()"
      ],
      "metadata": {
        "execution": {
          "iopub.status.busy": "2022-07-02T19:43:48.41569Z",
          "iopub.execute_input": "2022-07-02T19:43:48.416087Z",
          "iopub.status.idle": "2022-07-02T19:43:48.667747Z",
          "shell.execute_reply.started": "2022-07-02T19:43:48.416032Z",
          "shell.execute_reply": "2022-07-02T19:43:48.666583Z"
        },
        "trusted": true,
        "id": "crFRKupIR27M"
      },
      "execution_count": null,
      "outputs": []
    },
    {
      "cell_type": "markdown",
      "source": [
        "# Score (RMSE)"
      ],
      "metadata": {
        "id": "tqqJx7HKR27M"
      }
    },
    {
      "cell_type": "code",
      "source": [
        "score = np.sqrt(mean_squared_error(test['PJME_MW'], test['prediction']))\n",
        "print(f'RMSE Score on Test set: {score:0.2f}')"
      ],
      "metadata": {
        "execution": {
          "iopub.status.busy": "2022-07-02T19:43:54.283846Z",
          "iopub.execute_input": "2022-07-02T19:43:54.28425Z",
          "iopub.status.idle": "2022-07-02T19:43:54.291235Z",
          "shell.execute_reply.started": "2022-07-02T19:43:54.284209Z",
          "shell.execute_reply": "2022-07-02T19:43:54.289997Z"
        },
        "trusted": true,
        "id": "XQN89iwhR27M"
      },
      "execution_count": null,
      "outputs": []
    },
    {
      "cell_type": "markdown",
      "source": [
        "# Calculate Error\n",
        "- Look at the worst and best predicted days"
      ],
      "metadata": {
        "id": "rxbjxJl_R27M"
      }
    },
    {
      "cell_type": "code",
      "source": [
        "test['error'] = np.abs(test[TARGET] - test['prediction'])\n",
        "test['date'] = test.index.date\n",
        "test.groupby(['date'])['error'].mean().sort_values(ascending=False).head(10)"
      ],
      "metadata": {
        "execution": {
          "iopub.status.busy": "2022-07-02T19:43:55.948115Z",
          "iopub.execute_input": "2022-07-02T19:43:55.948769Z",
          "iopub.status.idle": "2022-07-02T19:43:55.984503Z",
          "shell.execute_reply.started": "2022-07-02T19:43:55.948736Z",
          "shell.execute_reply": "2022-07-02T19:43:55.983488Z"
        },
        "trusted": true,
        "id": "9C5LvBTDR27M"
      },
      "execution_count": null,
      "outputs": []
    },
    {
      "cell_type": "markdown",
      "source": [
        "# Next Steps\n",
        "- More robust cross validation\n",
        "- Add more features (weather forecast, holidays)"
      ],
      "metadata": {
        "id": "AGudmERZR27M"
      }
    },
    {
      "cell_type": "markdown",
      "source": [
        "# The End"
      ],
      "metadata": {
        "id": "hfs9dH0DR27M"
      }
    }
  ]
}